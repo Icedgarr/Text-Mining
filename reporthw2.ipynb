{
 "cells": [
  {
   "cell_type": "markdown",
   "metadata": {},
   "source": [
    "# Homework 2\n",
    "\n",
    "## Roger Garriga, Javier Mas, José Fernando Moreno"
   ]
  },
  {
   "cell_type": "code",
   "execution_count": 6,
   "metadata": {
    "collapsed": true
   },
   "outputs": [],
   "source": [
    "%matplotlib inline\n",
    "import pandas as pd\n",
    "import numpy as np\n",
    "import nltk\n",
    "from nltk.corpus import stopwords\n",
    "from nltk import PorterStemmer\n",
    "import sklearn\n",
    "from sklearn.feature_extraction.text import TfidfVectorizer\n",
    "#import lda\n",
    "from collections import Counter\n",
    "import scipy.sparse as ssp\n",
    "import topicmodels as tpm\n",
    "import matplotlib.pyplot as plt\n"
   ]
  },
  {
   "cell_type": "code",
   "execution_count": null,
   "metadata": {
    "collapsed": true
   },
   "outputs": [],
   "source": []
  },
  {
   "cell_type": "markdown",
   "metadata": {},
   "source": [
    "### Exercise 2\n"
   ]
  },
  {
   "cell_type": "code",
   "execution_count": 7,
   "metadata": {
    "collapsed": false
   },
   "outputs": [
    {
     "name": "stdout",
     "output_type": "stream",
     "text": [
      "Iteration 1 of (collapsed) Gibbs sampling\n",
      "Iteration 2 of (collapsed) Gibbs sampling\n",
      "Iteration 3 of (collapsed) Gibbs sampling\n",
      "Iteration 4 of (collapsed) Gibbs sampling\n",
      "Iteration 5 of (collapsed) Gibbs sampling\n",
      "Iteration 6 of (collapsed) Gibbs sampling\n",
      "Iteration 7 of (collapsed) Gibbs sampling\n",
      "Iteration 8 of (collapsed) Gibbs sampling\n",
      "Iteration 9 of (collapsed) Gibbs sampling\n",
      "Iteration 10 of (collapsed) Gibbs sampling\n",
      "Iteration 1 of (collapsed) Gibbs sampling\n",
      "Iteration 2 of (collapsed) Gibbs sampling\n",
      "Iteration 3 of (collapsed) Gibbs sampling\n",
      "Iteration 4 of (collapsed) Gibbs sampling\n",
      "Iteration 5 of (collapsed) Gibbs sampling\n",
      "Iteration 6 of (collapsed) Gibbs sampling\n",
      "Iteration 7 of (collapsed) Gibbs sampling\n",
      "Iteration 8 of (collapsed) Gibbs sampling\n",
      "Iteration 9 of (collapsed) Gibbs sampling\n",
      "Iteration 10 of (collapsed) Gibbs sampling\n",
      "Iteration 1 of (collapsed) Gibbs sampling\n",
      "Iteration 2 of (collapsed) Gibbs sampling\n",
      "Iteration 3 of (collapsed) Gibbs sampling\n",
      "Iteration 4 of (collapsed) Gibbs sampling\n",
      "Iteration 5 of (collapsed) Gibbs sampling\n",
      "Iteration 6 of (collapsed) Gibbs sampling\n",
      "Iteration 7 of (collapsed) Gibbs sampling\n",
      "Iteration 8 of (collapsed) Gibbs sampling\n",
      "Iteration 9 of (collapsed) Gibbs sampling\n",
      "Iteration 10 of (collapsed) Gibbs sampling\n",
      "Iteration 1 of (collapsed) Gibbs sampling\n",
      "Iteration 2 of (collapsed) Gibbs sampling\n",
      "Iteration 3 of (collapsed) Gibbs sampling\n",
      "Iteration 4 of (collapsed) Gibbs sampling\n",
      "Iteration 5 of (collapsed) Gibbs sampling\n",
      "Iteration 6 of (collapsed) Gibbs sampling\n",
      "Iteration 7 of (collapsed) Gibbs sampling\n",
      "Iteration 8 of (collapsed) Gibbs sampling\n",
      "Iteration 9 of (collapsed) Gibbs sampling\n",
      "Iteration 10 of (collapsed) Gibbs sampling\n"
     ]
    },
    {
     "data": {
      "image/png": "[encoded data removed]",
      "text/plain": [
       "<matplotlib.figure.Figure at 0x7f793d0e3f98>"
      ]
     },
     "metadata": {},
     "output_type": "display_data"
    }
   ],
   "source": [
    "path = \"/home/roger/Desktop/BGSE/courses/14D010 Text Mining for Social Sciences/Text-Mining/hw1\"\n",
    "\n",
    "data = pd.read_table(path+\"/speech_data_extend.txt\", encoding=\"utf-8\")\n",
    "\n",
    "data = data.loc[data['year']>=1946]\n",
    "data = data.reset_index()\n",
    "#Tokenize\n",
    "\n",
    "def tok_stem_data(data):\n",
    "    \n",
    "    prep_data = data.apply(lambda row: \n",
    "                            nltk.word_tokenize(row['speech'].lower()), axis=1)\n",
    "    \n",
    "    #Remove stop words and non-alphanumeric characters\n",
    "    \n",
    "    stop_w=set(stopwords.words('english'))\n",
    "    \n",
    "    \n",
    "    for i in range(len(prep_data)):\n",
    "        prep_data[i] = [w for w in prep_data[i] if w not in stop_w and w.isalpha()]\n",
    "    \n",
    "    #Stem the data\n",
    "    \n",
    "    stemmer = PorterStemmer() #Create a stemmer object\n",
    "    \n",
    "    for i in range(len(prep_data)):\n",
    "        prep_data[i] = [stemmer.stem(elem) for elem in prep_data[i]]\n",
    "        \n",
    "    empty_str = [i for i in range(len(prep_data)) if len(prep_data[i]) == 0]        \n",
    "\n",
    "    prep_data = prep_data.drop(empty_str)\n",
    "    \n",
    "    prep_data = prep_data.reset_index()\n",
    "    del prep_data['index']\n",
    "    prep_data.columns = ['speech']\n",
    "    prep_data = pd.Series(prep_data['speech'])\n",
    "    \n",
    "    return prep_data\n",
    "\n",
    "def count_words(prep_data):\n",
    "    unique_words = np.unique([word for doc in prep_data for word in doc])\n",
    "    unique_words = dict(zip(unique_words,range(len(unique_words))))\n",
    "    D = len(prep_data)\n",
    "    V = len(unique_words)\n",
    "    unigram_data = [[word for word in doc] for doc in prep_data]\n",
    "    X = np.zeros((D,V))\n",
    "    for k in range(D):\n",
    "        counts = Counter(unigram_data[k])\n",
    "        for word in set(unigram_data[k]):\n",
    "            X[k,unique_words[word]] = counts[word]    \n",
    "    X = ssp.csr_matrix(X.astype(int))\n",
    "    return X\n",
    "\n",
    "prep_data=tok_stem_data(data)\n",
    "\n",
    "perps = {}\n",
    "K = [2,5,10,50]\n",
    "for k in [2,5,10,50]:\n",
    "    \n",
    "    Col_Gibbs = tpm.LDA.LDAGibbs(prep_data,50)\n",
    "    burn_samples = 0\n",
    "    jumps = 25\n",
    "    used_samples = 150\n",
    "\n",
    "    Col_Gibbs.sample(burn_samples,jumps,used_samples)\n",
    "\n",
    "    perp_coll = Col_Gibbs.perplexity()\n",
    "\n",
    "    perps[str((k,Col_Gibbs.alpha,0.0241))] = perp_coll\n",
    "    \n",
    "a = [10,2,5,50]\n",
    "i = 0\n",
    "for item in perps:\n",
    "    plt.plot(perps[item], lw = 1., label = 'K='+str(a[i]))\n",
    "    plt.legend()\n",
    "    plt.ylabel('perplexity')\n",
    "    plt.xlabel('25x samples')\n",
    "    plt.title('perplexity across different K')\n",
    "    i+=1\n",
    "    \n",
    "    "
   ]
  },
  {
   "cell_type": "code",
   "execution_count": null,
   "metadata": {
    "collapsed": true
   },
   "outputs": [],
   "source": []
  }
 ],
 "metadata": {
  "anaconda-cloud": {},
  "kernelspec": {
   "display_name": "Python [Root]",
   "language": "python",
   "name": "Python [Root]"
  },
  "language_info": {
   "codemirror_mode": {
    "name": "ipython",
    "version": 3
   },
   "file_extension": ".py",
   "mimetype": "text/x-python",
   "name": "python",
   "nbconvert_exporter": "python",
   "pygments_lexer": "ipython3",
   "version": "3.5.2"
  }
 },
 "nbformat": 4,
 "nbformat_minor": 0
}
